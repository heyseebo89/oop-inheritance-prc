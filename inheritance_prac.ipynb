{
  "nbformat": 4,
  "nbformat_minor": 0,
  "metadata": {
    "colab": {
      "name": "inheritance prac.ipynb",
      "provenance": [],
      "authorship_tag": "ABX9TyO1HBazvJp7xJ29+DVX41hG",
      "include_colab_link": true
    },
    "kernelspec": {
      "name": "python3",
      "display_name": "Python 3"
    },
    "language_info": {
      "name": "python"
    }
  },
  "cells": [
    {
      "cell_type": "markdown",
      "metadata": {
        "id": "view-in-github",
        "colab_type": "text"
      },
      "source": [
        "<a href=\"https://colab.research.google.com/github/heyseebo89/oop-inheritance-prc/blob/main/inheritance_prac.ipynb\" target=\"_parent\"><img src=\"https://colab.research.google.com/assets/colab-badge.svg\" alt=\"Open In Colab\"/></a>"
      ]
    },
    {
      "cell_type": "code",
      "metadata": {
        "colab": {
          "base_uri": "https://localhost:8080/"
        },
        "id": "aMJVdsrCOZnY",
        "outputId": "482e5571-58a7-44e9-c429-219609105065"
      },
      "source": [
        "########################\n",
        "# TYPES OF INHERITANCE #\n",
        "########################\n",
        "class Employee:\n",
        "  def __init__(self, name, ID, gender):\n",
        "    self.name = name\n",
        "    self.ID = ID\n",
        "    self.gender = gender\n",
        "\n",
        "  def getID(self):\n",
        "    print(\"ID:\", self.ID,'\\n')\n",
        "\n",
        "# SINGLE INHERITANCE\n",
        "class Boss(Employee):\n",
        "  def __init__(self, name, ID, gender, salary):\n",
        "    super().__init__(name, ID, gender)\n",
        "  \n",
        "  def position(self):\n",
        "    print(\"Boss\")\n",
        "boss = Boss('Sam', 32456, 'Male', 645542)\n",
        "boss.position() \n",
        "boss.getID()\n",
        "\n",
        "# HIERARCHIAL INHERITANCE\n",
        "class Manager(Employee):\n",
        "  def __init__(self, name, ID, gender, salary):\n",
        "    super().__init__(name, ID, gender)\n",
        "  \n",
        "  def position(self):\n",
        "    print(\"Manager\")\n",
        "mgr = Manager('Karen', 75256, 'Female', 645542)\n",
        "mgr.position() \n",
        "mgr.getID()\n",
        "\n",
        "# MULTILEVEL INHERITANCE\n",
        "class CO(Boss):\n",
        "  def __init__(self, name, ID, gender, salary, position):\n",
        "    super().__init__(name, ID, gender, salary)\n",
        "  def position(self):\n",
        "    print(\"CEO\")\n",
        "ceo = CO('Carmen', 1002, 'Female', 120000, 'CEO')\n",
        "ceo.position()\n",
        "ceo.getID()\n",
        "\n",
        "#MULTIPLE INHERITANCE\n",
        "class Owner(CO, Boss, Employee):\n",
        "  def __init__(self, name, ID):\n",
        "    self.name = name\n",
        "    self.ID = ID\n",
        "o = Owner('Sharma', 1001)\n",
        "o.position()\n",
        "o.getID()\n",
        "\n",
        "#HYBRID INHERITANCE\n",
        "class ManagementHead(Manager, Boss):\n",
        "  def __init__(self, name, ID):\n",
        "    self.name = name\n",
        "    self.ID = ID\n",
        "Mgmt = ManagementHead('Saakshi', 38692)\n",
        "Mgmt.position()\n",
        "Mgmt.getID()"
      ],
      "execution_count": 1,
      "outputs": [
        {
          "output_type": "stream",
          "name": "stdout",
          "text": [
            "Boss\n",
            "ID: 32456 \n",
            "\n",
            "Manager\n",
            "ID: 75256 \n",
            "\n",
            "CEO\n",
            "ID: 1002 \n",
            "\n",
            "CEO\n",
            "ID: 1001 \n",
            "\n",
            "Manager\n",
            "ID: 38692 \n",
            "\n"
          ]
        }
      ]
    },
    {
      "cell_type": "code",
      "metadata": {
        "colab": {
          "base_uri": "https://localhost:8080/"
        },
        "id": "H5-xN38bPL5b",
        "outputId": "ee064788-50d7-429b-cc27-d7fd52472416"
      },
      "source": [
        "# Problem 1: Create a Player class\n",
        "class Player:\n",
        "    MAX_POSITION = 10     # Class attribute   \n",
        "    def __init__(self):\n",
        "      self.position = 0 \n",
        "print(Player.MAX_POSITION)    # instance accessing Class attribute\n",
        "# Create a player p and print its MAX_POSITITON\n",
        "p = Player()\n",
        "print(p.MAX_POSITION)  # what is the output?"
      ],
      "execution_count": 2,
      "outputs": [
        {
          "output_type": "stream",
          "name": "stdout",
          "text": [
            "10\n",
            "10\n"
          ]
        }
      ]
    },
    {
      "cell_type": "markdown",
      "metadata": {
        "id": "QUOBvzbYPS6B"
      },
      "source": [
        "THE OUTPUT IS 10"
      ]
    },
    {
      "cell_type": "code",
      "metadata": {
        "colab": {
          "base_uri": "https://localhost:8080/"
        },
        "id": "1u6cmMbqPXQp",
        "outputId": "10369e1f-2e7b-40f4-8b1e-97f7b96c7ac9"
      },
      "source": [
        "# Problem 1 solution:\n",
        "class Player:\n",
        "    MAX_SPEED = 10     # Class attribute   \n",
        "    def __init__(self, speed):\n",
        "      self.speed = speed\n",
        "\n",
        "p1 = Player(6)\n",
        "p2 = Player(9)\n",
        "print(p1.MAX_SPEED, p2.MAX_SPEED)\n",
        "p1.MAX_SPEED = 7\n",
        "print(p1.MAX_SPEED, p2.MAX_SPEED)\n",
        "print(Player.MAX_SPEED)"
      ],
      "execution_count": 3,
      "outputs": [
        {
          "output_type": "stream",
          "name": "stdout",
          "text": [
            "10 10\n",
            "7 10\n",
            "10\n"
          ]
        }
      ]
    },
    {
      "cell_type": "code",
      "metadata": {
        "colab": {
          "base_uri": "https://localhost:8080/"
        },
        "id": "TZ4MYR4TPomQ",
        "outputId": "7cd17dbb-fbd2-4039-944c-3a89bdcb6310"
      },
      "source": [
        "# Define a subclass - Practice\n",
        "class Vehicle:\n",
        "  def __init__(self, model, brand, color, price):\n",
        "    self.model = model\n",
        "    self.brand = brand\n",
        "    self.color = color\n",
        "    self.price = price\n",
        "\n",
        "  def displayInfo(self):\n",
        "    print(\"Model:\", self.model+',',\"Brand:\",self.brand+',',\"Color:\", self.color+',', \"Price:\", self.price)\n",
        "\n",
        "class Bus(Vehicle):\n",
        "  def __init__(self, model, brand, color, price, capacity):\n",
        "    super().__init__(model, brand, color, price)\n",
        "    self.capacity = capacity\n",
        "  def displayInfo(self):\n",
        "    Vehicle.displayInfo(self)\n",
        "    print(\"Seating capacity:\",self.capacity)\n",
        "\n",
        "bus1 = Bus('Rx-50', 'Mercedes', 'Yellow', 450000, 50)\n",
        "bus1.displayInfo()"
      ],
      "execution_count": 6,
      "outputs": [
        {
          "output_type": "stream",
          "name": "stdout",
          "text": [
            "Model: Rx-50, Brand: Mercedes, Color: Yellow, Price: 450000\n",
            "Seating capacity: 50\n"
          ]
        }
      ]
    },
    {
      "cell_type": "code",
      "metadata": {
        "colab": {
          "base_uri": "https://localhost:8080/"
        },
        "id": "Yl7R_8BPP0fK",
        "outputId": "fa52f1c7-9569-4872-c8ea-e0b41cfbe111"
      },
      "source": [
        "# Alternative Constructor - Practice\n",
        "class Employee:\n",
        "  def __init__(self, name, empID, salary):\n",
        "    self.name = name\n",
        "    self.empID = empID\n",
        "    self.salary = salary\n",
        "\n",
        "  @classmethod\n",
        "  def intern(cls, emp):\n",
        "    name = emp[0]\n",
        "    empID = emp[1]\n",
        "    salary = emp[2]\n",
        "    return cls(name, empID, salary)\n",
        "\n",
        "emp = Employee.intern([\"Chris\", 414628, '1.5 years'])\n",
        "print(emp.name)\n",
        "print(emp.empID)\n",
        "print(emp.salary)"
      ],
      "execution_count": 7,
      "outputs": [
        {
          "output_type": "stream",
          "name": "stdout",
          "text": [
            "Chris\n",
            "414628\n",
            "1.5 years\n"
          ]
        }
      ]
    },
    {
      "cell_type": "code",
      "metadata": {
        "colab": {
          "base_uri": "https://localhost:8080/"
        },
        "id": "u-4DYGlAP6MZ",
        "outputId": "6bec26ae-f0ca-439e-ace8-24ae07ca30d3"
      },
      "source": [
        "# Solution FOR QUESTION NO 5:\n",
        "class Employee:\n",
        "  MIN_SALARY = 30000    \n",
        "  def __init__(self, name, salary=MIN_SALARY):\n",
        "      self.name = name\n",
        "      if salary >= Employee.MIN_SALARY:\n",
        "        self.salary = salary\n",
        "      else:\n",
        "        self.salary = Employee.MIN_SALARY\n",
        "  def give_raise(self, amount):\n",
        "      self.salary += amount        \n",
        "# Define a new class Manager inheriting from Employee\n",
        "class Manager(Employee):\n",
        "  pass\n",
        "# Define a Manager object or child class \n",
        "mng = Manager('HASEEB', 35000)\n",
        "# Print mng's name\n",
        "print(mng.name)"
      ],
      "execution_count": 8,
      "outputs": [
        {
          "output_type": "stream",
          "name": "stdout",
          "text": [
            "HASEEB\n"
          ]
        }
      ]
    },
    {
      "cell_type": "code",
      "metadata": {
        "id": "wu4DlCm8QExF"
      },
      "source": [
        "class Employee:\n",
        "    def __init__(self, name, salary=30000):\n",
        "        self.name = name\n",
        "        self.salary = salary\n",
        "    def give_raise(self, amount):\n",
        "        self.salary += amount        \n",
        "class Manager(Employee):\n",
        "  # Add a constructor \n",
        "    def __init__(self, name, ____, ____):\n",
        "        # Call the parent's constructor   \n",
        "        ____.____(____, ____, salary)\n",
        "        # Assign project attribute\n",
        "        ____ \n",
        "    def display(self):\n",
        "        print(\"Manager \", self.name)"
      ],
      "execution_count": null,
      "outputs": []
    },
    {
      "cell_type": "code",
      "metadata": {
        "colab": {
          "base_uri": "https://localhost:8080/"
        },
        "id": "EVVsZqi1QOFp",
        "outputId": "1214e4d0-776c-4d18-dd70-ca7830228fd7"
      },
      "source": [
        "# Solution\n",
        "class Employee:\n",
        "    def __init__(self, name, salary=30000):\n",
        "        self.name = name\n",
        "        self.salary = salary\n",
        "    def give_raise(self, amount):\n",
        "        self.salary += amount       \n",
        "class Manager(Employee):\n",
        "  # Add a constructor \n",
        "    def __init__(self, name, salary=50000, project=None):\n",
        "        Employee.__init__(self, name, salary) # Call the parent's constructor \n",
        "        self.project = project      # Assign project attribute\n",
        "    def display(self):\n",
        "        print(\"Manager \", self.name)\n",
        "m1 = Manager('HASEEB', 100000)\n",
        "m1.display()\n"
      ],
      "execution_count": 10,
      "outputs": [
        {
          "output_type": "stream",
          "name": "stdout",
          "text": [
            "Manager  HASEEB\n"
          ]
        }
      ]
    }
  ]
}